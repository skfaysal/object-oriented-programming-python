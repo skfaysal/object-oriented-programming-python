{
 "cells": [
  {
   "cell_type": "code",
   "execution_count": 5,
   "id": "0627119b",
   "metadata": {},
   "outputs": [],
   "source": [
    "import datetime\n",
    "import time"
   ]
  },
  {
   "cell_type": "markdown",
   "id": "5a01c067",
   "metadata": {},
   "source": [
    "# Secure Object Attributes"
   ]
  },
  {
   "cell_type": "markdown",
   "id": "2a130dac",
   "metadata": {},
   "source": [
    "### Use protected (_email) and (__email)"
   ]
  },
  {
   "cell_type": "markdown",
   "id": "7816249a",
   "metadata": {},
   "source": [
    "### Use getter and setter"
   ]
  },
  {
   "cell_type": "code",
   "execution_count": null,
   "id": "2ca168ea",
   "metadata": {},
   "outputs": [],
   "source": []
  },
  {
   "cell_type": "code",
   "execution_count": null,
   "id": "19f21583",
   "metadata": {},
   "outputs": [],
   "source": []
  },
  {
   "cell_type": "markdown",
   "id": "12917d58",
   "metadata": {},
   "source": [
    "# Access or modify Attributes\n",
    "### Properties"
   ]
  },
  {
   "cell_type": "code",
   "execution_count": 1,
   "id": "9e9d85aa",
   "metadata": {},
   "outputs": [],
   "source": [
    "class User:\n",
    "    def __init__(self,username,password,email):\n",
    "        self.username = username\n",
    "        self.password = password\n",
    "        self.email = email"
   ]
  },
  {
   "cell_type": "code",
   "execution_count": 3,
   "id": "cc048dd5",
   "metadata": {},
   "outputs": [
    {
     "name": "stdout",
     "output_type": "stream",
     "text": [
      "faysal@example.com\n",
      "f1232343544t5.com\n"
     ]
    }
   ],
   "source": [
    "user1 = User(\"faysal\",\"1234\",\"faysal@example.com\")\n",
    "print(user1.email)\n",
    "user1.email = \"f1232343544t5.com\"\n",
    "print(user1.email)"
   ]
  },
  {
   "cell_type": "markdown",
   "id": "48555e4c",
   "metadata": {},
   "source": [
    "As we can see we can modify the object attributes\n",
    "without any validation.\\n\n",
    "Lets Have is protected with properties"
   ]
  },
  {
   "cell_type": "markdown",
   "id": "6a6f3482",
   "metadata": {},
   "source": []
  },
  {
   "cell_type": "code",
   "execution_count": 6,
   "id": "2a0cc498",
   "metadata": {},
   "outputs": [],
   "source": [
    "class User:\n",
    "    def __init__(self,username,password,email):\n",
    "        self.username = username\n",
    "        self.password = password\n",
    "        self._email = email\n",
    "    @property\n",
    "    def email(self):\n",
    "        print(\"User Accessing email at \", datetime.datetime.now())\n",
    "        return self._email\n",
    "\n",
    "user1 = User(\"faysal\",\"1234\",\"faysal@example.com\")\n",
    "## Access it in same manner like an usual object attribute. But it uses the function email.\n",
    "print(user1.email) "
   ]
  },
  {
   "cell_type": "code",
   "execution_count": 10,
   "id": "4b49d14a",
   "metadata": {},
   "outputs": [
    {
     "name": "stdout",
     "output_type": "stream",
     "text": [
      "User Accessing email at  2025-06-29 17:45:43.072811\n",
      "faysal@example.com\n",
      "User Setting email at  2025-06-29 17:45:43.072892\n",
      "User Accessing email at  2025-06-29 17:45:43.072924\n",
      "faysal_new@example.com\n"
     ]
    }
   ],
   "source": [
    "## Noe lets set or update the email\n",
    "\n",
    "class User:\n",
    "    def __init__(self,username,password,email):\n",
    "        self.username = username\n",
    "        self.password = password\n",
    "        self._email = email # _email is a protected attribute. It should not be accessed directly outside the class.\n",
    "    \n",
    "    @property\n",
    "    def email(self): # Need to use the function name same as the attribute name\n",
    "        # This is a getter function. It will be called when we access the email attribute.\n",
    "        print(\"User Accessing email at \", datetime.datetime.now())\n",
    "        return self._email\n",
    "\n",
    "\n",
    "    # This is a setter function. It will be called when we set the email attribute.\n",
    "    @email.setter \n",
    "    def email(self, new_email):\n",
    "        if \"@\" not in new_email:\n",
    "            raise ValueError(\"Invalid email address\")\n",
    "        print(\"User Setting email at \", datetime.datetime.now())\n",
    "        self._email = new_email\n",
    "\n",
    "user1 = User(\"faysal\",\"1234\",\"faysal@example.com\")\n",
    "## Access it in same manner like an usual object attribute. But it uses the function email.\n",
    "## Dont have to access the email attribute with function call like user1.email()\n",
    "## Its a public email property\n",
    "print(user1.email)\n",
    "\n",
    "## Now lets set the email with invalid email\n",
    "# user1.email = \"f1232343544t5.com\"\n",
    "# print(user1.email)  \n",
    "\n",
    "## Now lets set the email with valid email\n",
    "user1.email = \"faysal_new@example.com\"\n",
    "print(user1.email)\n"
   ]
  },
  {
   "cell_type": "markdown",
   "id": "9aa8add2",
   "metadata": {},
   "source": [
    "## Instance vs Class/Static Attributes\n",
    "\n",
    "- A static or class attributes are in scope of the class. It can be accessed from both class and object/ instance level\n",
    "\n",
    "- Instance or object attributes only acccessible from object level\n",
    "\n",
    "\n"
   ]
  },
  {
   "cell_type": "markdown",
   "id": "eaf98ec6",
   "metadata": {},
   "source": []
  },
  {
   "cell_type": "code",
   "execution_count": 12,
   "id": "ca7244c7",
   "metadata": {},
   "outputs": [
    {
     "name": "stdout",
     "output_type": "stream",
     "text": [
      "Username: faysal, Email: faysal@example.com\n",
      "Username: john, Email: john@example.com\n",
      "Total users: 2\n",
      "Total users (Accessed from user1): 2\n",
      "Total users (Accessed from user2): 2\n"
     ]
    }
   ],
   "source": [
    "class User:\n",
    "    # Static or class attribute. \n",
    "    # Shared across all instances of the class\n",
    "    # Ideal to use for a data which needs to be consistent across all instances. Like configs, trackers etc\n",
    "    user_count = 0\n",
    "\n",
    "    def __init__(self, username, email):\n",
    "        self.username = username  # Instance attribute\n",
    "        self.email = email  # Instance attribute\n",
    "        User.user_count += 1  # Increment the user count whenever a new user is created\n",
    "\n",
    "    def display_user(self):\n",
    "        print(f\"Username: {self.username}, Email: {self.email}\")\n",
    "\n",
    "# Create instances of User\n",
    "user1 = User(\"faysal\", \"faysal@example.com\")\n",
    "user2 = User(\"john\", \"john@example.com\")\n",
    "\n",
    "# Display user information\n",
    "user1.display_user()\n",
    "user2.display_user()\n",
    "\n",
    "# Display the total number of users\n",
    "print(f\"Total users: {User.user_count}\")\n",
    "\n",
    "## Object can also access the static attribute\n",
    "print(f\"Total users (Accessed from user1): {user1.user_count}\")\n",
    "print(f\"Total users (Accessed from user2): {user2.user_count}\")\n"
   ]
  },
  {
   "cell_type": "markdown",
   "id": "f20a7c04",
   "metadata": {},
   "source": [
    "## Static vs Instance method\n",
    "`@staticmethod` <br>\n",
    "It is recommended to use when : <br>\n",
    "- any function doesn't need any instance or class states or attributes.\n",
    "- Does not rely on any instance or class methods\n",
    "- Functions that can live outside the class.\n",
    "\n",
    "Like `utils` works."
   ]
  },
  {
   "cell_type": "code",
   "execution_count": 16,
   "id": "ff3aaa6d",
   "metadata": {},
   "outputs": [
    {
     "name": "stdout",
     "output_type": "stream",
     "text": [
      "Deposited 200. New balance is 700.\n",
      "Is 3% a valid interest rate? True\n",
      "Is 6% a valid interest rate? False\n",
      "Is 4% a valid interest rate? True\n"
     ]
    }
   ],
   "source": [
    "class BankAccount:\n",
    "    MIN_BALANCE = 100  # Static or class attribute, minimum balance required\n",
    "\n",
    "    def __init__(self,owner, balance=0):\n",
    "        self.owner = owner\n",
    "        self._balance = balance  # protected instance attribute, specific to each account\n",
    "\n",
    "    ## Instance method\n",
    "    def deposit(self, amount):\n",
    "        if amount > 0:\n",
    "            self._balance += amount\n",
    "            print(f\"Deposited {amount}. New balance is {self._balance}.\")\n",
    "        else:\n",
    "            print(\"Invalid deposit amount.\")\n",
    "\n",
    "    @staticmethod\n",
    "    def is_valid_interest_rate(rate): # This method does not depend on instance or class attributes\n",
    "        return rate > 0 and rate <= 5\n",
    "\n",
    "\n",
    "account1 = BankAccount(\"Faysal\", 500)\n",
    "account1.deposit(200)\n",
    "\n",
    "## Access static method\n",
    "print(\"Is 3% a valid interest rate?\", BankAccount.is_valid_interest_rate(3))\n",
    "print(\"Is 6% a valid interest rate?\", BankAccount.is_valid_interest_rate(6))\n",
    "\n",
    "## Try to access static method from instance.It is not recommended but still works\n",
    "print(\"Is 4% a valid interest rate?\", account1.is_valid_interest_rate(4))"
   ]
  },
  {
   "cell_type": "markdown",
   "id": "35f9e067",
   "metadata": {},
   "source": [
    "Protected method <br>\n",
    "`def _method_name(self,x)` <br>\n",
    "Ths function should only be used `inside` the class."
   ]
  },
  {
   "cell_type": "code",
   "execution_count": 19,
   "id": "c9e0478d",
   "metadata": {},
   "outputs": [
    {
     "name": "stdout",
     "output_type": "stream",
     "text": [
      "Deposited 200. New balance is 700.\n"
     ]
    },
    {
     "data": {
      "text/plain": [
       "True"
      ]
     },
     "execution_count": 19,
     "metadata": {},
     "output_type": "execute_result"
    }
   ],
   "source": [
    "class BankAccount:\n",
    "    MIN_BALANCE = 100  # Static or class attribute, minimum balance required\n",
    "\n",
    "    def __init__(self,owner, balance=0):\n",
    "        self.owner = owner\n",
    "        self._balance = balance  # protected instance attribute, specific to each account\n",
    "\n",
    "    ## Instance method\n",
    "    def deposit(self, amount):\n",
    "        if self._is_valid_amount(amount):\n",
    "            self._balance += amount\n",
    "            print(f\"Deposited {amount}. New balance is {self._balance}.\")\n",
    "        else:\n",
    "            print(\"Invalid deposit amount.\")\n",
    "    \n",
    "    def _is_valid_amount(self, amount):\n",
    "        # This is a protected method. It should only be used inside the class.\n",
    "        return amount > 0\n",
    "\n",
    "    @staticmethod\n",
    "    def is_valid_interest_rate(rate): # This method does not depend on instance or class attributes\n",
    "        return rate > 0 and rate <= 5\n",
    "\n",
    "account1 = BankAccount(\"Faysal\", 500)\n",
    "account1.deposit(200)\n",
    "\n",
    "## Try to access protected method from outside the class\n",
    "# It will work but it is not recommended\n",
    "account1._is_valid_amount(100)  # This should not be accessed outside the"
   ]
  },
  {
   "cell_type": "markdown",
   "id": "b8605d29",
   "metadata": {},
   "source": [
    "## Class Methods `@classmethod`\n"
   ]
  },
  {
   "cell_type": "code",
   "execution_count": null,
   "id": "5f87ffae",
   "metadata": {},
   "outputs": [],
   "source": [
    "# Example of `@classmethod`, and why and when its useful\n",
    "# This is used to create alternative constructors or to access class-level data.\n",
    "# It allows you to access class attributes and methods without needing an instance of the class.\n",
    "class Vehicle:\n",
    "    _registry = []\n",
    "\n",
    "    def __init__(self, brand, model, year):\n",
    "        self.brand = brand\n",
    "        self.model = model\n",
    "        self.year = year\n",
    "        Vehicle._registry.append(self)\n",
    "\n",
    "    @classmethod\n",
    "    def get_vehicle_count(cls):\n",
    "        return len(cls._registry)\n",
    "\n",
    "# Create some vehicles\n",
    "v1 = Vehicle(\"Toyota\", \"Camry\", 2020)\n",
    "v2 = Vehicle(\"Honda\", \"Civic\", 2021)\n",
    "\n",
    "# Get the count of vehicles\n",
    "print(Vehicle.get_vehicle_count())  # Output: 2\n",
    "\n",
    "\n",
    "\n",
    "# Example of `@classmethod` to create an instance from a string\n",
    "# This is useful when you want to create an instance from a different format, like a string\n",
    "# It allows for alternative constructors that can parse data and create an instance.\n",
    "\n",
    "class Vehicle:\n",
    "    _registry = []\n",
    "\n",
    "    def __init__(self, brand, model, year):\n",
    "        self.brand = brand\n",
    "        self.model = model\n",
    "        self.year = year\n",
    "        Vehicle._registry.append(self)\n",
    "\n",
    "    @classmethod\n",
    "    def from_string(cls, vehicle_str):\n",
    "        brand, model, year = vehicle_str.split(\",\")\n",
    "        return cls(brand.strip(), model.strip(), int(year.strip()))\n",
    "\n",
    "# Create a vehicle from a string\n",
    "vehicle_str = \"Ford, Mustang, 2022\"\n",
    "v3 = Vehicle.from_string(vehicle_str)"
   ]
  },
  {
   "cell_type": "markdown",
   "id": "b2196ea7",
   "metadata": {},
   "source": [
    "### Recap\n",
    "- Object and class attributes and their scopes\n",
    "- Private (_email), Protected(__email) attributes\n",
    "- Properties\n",
    "- @classmethods , @staticmethods\n",
    "- Instance methods\n"
   ]
  },
  {
   "cell_type": "code",
   "execution_count": 27,
   "id": "f3a2876b",
   "metadata": {},
   "outputs": [],
   "source": [
    "class Circle:\n",
    "    origin = (0, 0)  # Static or class attribute, shared by all instances\n",
    "\n",
    "    ## Instance method\n",
    "    def __init__(self, radius=1):  # Custom initializer, Instance method, Bound to the instance\n",
    "        self._r = radius           # Instance attribute, specific to each instance. By convention private.\n",
    "\n",
    "    \n",
    "    # Static method\n",
    "    @staticmethod\n",
    "    def create_unit_circle():      # static method, not bound to the instance or class\n",
    "        \"\"\"Static method to create a unit circle (radius = 1)\"\"\"\n",
    "        return Circle(1)           # Create a new Circle instance with radius 1\n",
    "    \n",
    "\n",
    "    # Class method\n",
    "    @classmethod\n",
    "    def set_origin(cls, x,y):  # class method, bound to the class\n",
    "        \"\"\"Class method to create a circle with the origin as center\"\"\"\n",
    "        cls.origin = (x, y)       # Update the class attribute\n",
    "\n",
    "    # Instance method bound to the instance\n",
    "    def double_radius(self):\n",
    "        \"\"\"Instance method to double the radius of the circle\"\"\"\n",
    "        self._r *= 2\n",
    "\n",
    "    # Properties\n",
    "    @property\n",
    "    def radius(self):\n",
    "        \"\"\"Property to get the radius of the circle\"\"\"\n",
    "        return self._r\n",
    "    @radius.setter\n",
    "    def radius(self, new_radius):\n",
    "        \"\"\"Property to set the radius of the circle\"\"\"\n",
    "        if new_radius <= 0:\n",
    "            raise ValueError(\"Radius must be positive\")\n",
    "        self._r = new_radius\n",
    "\n",
    "    "
   ]
  },
  {
   "cell_type": "code",
   "execution_count": 28,
   "id": "d4d89df0",
   "metadata": {},
   "outputs": [
    {
     "name": "stdout",
     "output_type": "stream",
     "text": [
      "Circle origin: (0, 0)\n",
      "Circle origin from instance: (0, 0)\n",
      "1\n",
      "Circle radius: 2\n",
      "Unit Circle radius: 1\n",
      "Updated Circle origin: (5, 5)\n",
      "Circle origin from instance after update: (5, 5)\n",
      "Circle radius after doubling: 2\n",
      "Circle radius after setting to 3: 3\n"
     ]
    }
   ],
   "source": [
    "print(\"Circle origin:\", Circle.origin)\n",
    "c = Circle()\n",
    "print(\"Circle origin from instance:\", c.origin)\n",
    "print(c._r)\n",
    "\n",
    "##------------------- Instance Methods\n",
    "c = Circle(2)\n",
    "print(\"Circle radius:\", c._r) # it works but not recommended to access private attributes directly\n",
    "\n",
    "\n",
    "##------------------- Static Methods\n",
    "unit_circle = Circle.create_unit_circle()  # Create a unit circle using the static method\n",
    "print(\"Unit Circle radius:\", unit_circle._r)  # Access the radius of the unit\n",
    "\n",
    "\n",
    "##------------------- Class Methods\n",
    "Circle.set_origin(5, 5)  # Set the origin using the class method\n",
    "print(\"Updated Circle origin:\", Circle.origin)  # Access the updated origin\n",
    "c = Circle()\n",
    "print(\"Circle origin from instance after update:\", c.origin)  # Access the updated origin from the instance\n",
    "\n",
    "##------------------- Instance MEthod bound to the instance\n",
    "c.double_radius()  # Double the radius of the circle using the instance method\n",
    "print(\"Circle radius after doubling:\", c._r)  # Access the updated radius of the circle\n",
    "# Circle.double_radius() # This will raise an error because double_radius is an instance method and cannot be called on the class directly\n",
    "\n",
    "\n",
    "##------------------- Properties\n",
    "c.radius = 3  # Set the radius using the property setter\n",
    "print(\"Circle radius after setting to 3:\", c.radius)  # Access the radius using the property getter\n"
   ]
  },
  {
   "cell_type": "markdown",
   "id": "76f42c8f",
   "metadata": {},
   "source": [
    "# Encapsulation\n",
    "\n",
    "Hiding internal implementation of the class from the user\n"
   ]
  },
  {
   "cell_type": "code",
   "execution_count": 20,
   "id": "2083fabf",
   "metadata": {},
   "outputs": [
    {
     "name": "stdout",
     "output_type": "stream",
     "text": [
      "-1000\n"
     ]
    }
   ],
   "source": [
    "# Bad Design\n",
    "\n",
    "class BadBankAccount:\n",
    "    def __init__(self,balance):\n",
    "        self.balance = balance\n",
    "\n",
    "\n",
    "account1 = BadBankAccount(0.0)\n",
    "account1.balance = -1000  # This is allowed, but it should not be allowed\n",
    "print(account1.balance)  # This will print -1000, which is not a valid"
   ]
  },
  {
   "cell_type": "code",
   "execution_count": 21,
   "id": "71bf006b",
   "metadata": {},
   "outputs": [
    {
     "name": "stdout",
     "output_type": "stream",
     "text": [
      "Initial balance: 0.0\n",
      "Balance after direct modification: 500\n",
      "Deposited 1000. New balance is 1500.\n",
      "Current balance: 1500\n",
      "Withdrew 500. New balance is 1000.\n",
      "Current balance after withdrawal: 1000\n"
     ]
    }
   ],
   "source": [
    "## Better Design with encapsulation\n",
    "\n",
    "class BankAccount:\n",
    "    def __init__(self):\n",
    "        self._balance = 0.0 #instance protected attribute\n",
    "    \n",
    "    # Getter property for balance\n",
    "    @property\n",
    "    def balance(self):\n",
    "        return self._balance\n",
    "\n",
    "    # instance method to deposit money\n",
    "    def deposit(self, amount):\n",
    "        if amount > 0:\n",
    "            self._balance += amount\n",
    "            print(f\"Deposited {amount}. New balance is {self._balance}.\")\n",
    "        else:\n",
    "           raise ValueError(\"Invalid deposit amount.\")\n",
    "\n",
    "    # instance method to withdraw money\n",
    "    def withdraw(self, amount):\n",
    "        if amount > 0 and amount <= self._balance:\n",
    "            self._balance -= amount\n",
    "            print(f\"Withdrew {amount}. New balance is {self._balance}.\")\n",
    "        else:\n",
    "            raise ValueError(\"Invalid withdrawal amount or insufficient funds.\")\n",
    "\n",
    "account1 = BankAccount()\n",
    "\n",
    "print(f\"Initial balance: {account1.balance}\") # it can help check current balance without modifying it\n",
    "\n",
    "account1._balance = 500  # This is not recommended, but it will work\n",
    "\n",
    "account1.deposit(1000)\n",
    "print(f\"Current balance: {account1.balance}\")\n",
    "account1.withdraw(500)\n",
    "print(f\"Current balance after withdrawal: {account1.balance}\")"
   ]
  },
  {
   "cell_type": "markdown",
   "id": "8513b3fa",
   "metadata": {},
   "source": [
    "# Abstraction\n",
    "\n",
    "Reduce complexity by hiding implementation or unnecessary details\n"
   ]
  },
  {
   "cell_type": "code",
   "execution_count": null,
   "id": "449eab4c",
   "metadata": {},
   "outputs": [
    {
     "name": "stdout",
     "output_type": "stream",
     "text": [
      "Connecting to email server...\n",
      "Authenticating user...\n",
      "Sending email to recipient@example.com with subject 'Test Subject' and body 'This is a test email.'\n",
      "Email sent successfully!\n",
      "Disconnecting from email server...\n"
     ]
    }
   ],
   "source": [
    "class EmailService:\n",
    "\n",
    "    def _connect(self):\n",
    "        # This is a protected method. It should only be used inside the class.\n",
    "        print(\"Connecting to email server...\")\n",
    "\n",
    "    def _authenticate(self):\n",
    "        # This is a protected method. It should only be used inside the class.\n",
    "        print(\"Authenticating user...\")\n",
    "\n",
    "    def _disconnect(self):\n",
    "        # This is a protected method. It should only be used inside the class.\n",
    "        print(\"Disconnecting from email server...\")\n",
    "\n",
    "    def send_email(self, to, subject, body):\n",
    "        # This is a public method. It can be used outside the class.\n",
    "        self._connect()\n",
    "        self._authenticate()\n",
    "        \n",
    "        print(f\"Sending email to {to} with subject '{subject}' and body '{body}'\")\n",
    "        print(\"Email sent successfully!\")\n",
    "\n",
    "        self._disconnect()\n",
    "\n",
    "\n",
    "## Here the protected methods are abstracted away from the user.\n",
    "# The user only needs to call the public method send_email to send an email.\n",
    "sender = EmailService()\n",
    "\n",
    "sender.send_email(\"recipient@example.com\", \"Test Subject\", \"This is a test email.\")"
   ]
  },
  {
   "cell_type": "markdown",
   "id": "27009665",
   "metadata": {},
   "source": [
    "# Difference Between Encapsulation and Abstraction\n",
    "\n",
    "- Encapsulation is a mechanism , using that we can achieve Abstraction by hiding out <br>\n",
    "Implementation or unneccesary details to user."
   ]
  },
  {
   "cell_type": "markdown",
   "id": "9f51b4e1",
   "metadata": {},
   "source": [
    "# Inheritance"
   ]
  },
  {
   "cell_type": "code",
   "execution_count": 1,
   "id": "dfa87259",
   "metadata": {},
   "outputs": [],
   "source": [
    "\n",
    "## Parent Class\n",
    "class Vehicle:\n",
    "    def __init__(self,brand,model,year):\n",
    "        self.brand = brand\n",
    "        self.model = model\n",
    "        self.year = year\n",
    "\n",
    "    def start(self):\n",
    "        print(f\"{self.brand} {self.model} is starting.\")\n",
    "    def stop(self):\n",
    "        print(f\"{self.brand} {self.model} is stopping.\")\n",
    "\n",
    "\n",
    "## Child Class\n",
    "class Car(Vehicle):\n",
    "    def __init__(self, brand, model, year, num_doors):\n",
    "        super().__init__(brand, model, year)  # Call the parent class constructor\n",
    "        self.num_doors = num_doors\n",
    "\n",
    "    def open_trunk(self):\n",
    "        print(f\"Opening the trunk of the {self.brand} {self.model}.\")\n",
    "\n",
    "## Child Class\n",
    "class Motorcycle(Vehicle):\n",
    "    def __init__(self, brand, model, year, has_sidecar):\n",
    "        super().__init__(brand, model, year)  # Call the parent class constructor\n",
    "        self.has_sidecar = has_sidecar\n",
    "\n",
    "    def pop_wheelie(self):\n",
    "        print(f\"{self.brand} {self.model} is popping a wheelie!\")"
   ]
  },
  {
   "cell_type": "code",
   "execution_count": 3,
   "id": "201ed72f",
   "metadata": {},
   "outputs": [
    {
     "name": "stdout",
     "output_type": "stream",
     "text": [
      "Toyota Camry is starting.\n",
      "Opening the trunk of the Toyota Camry.\n",
      "{'brand': 'Toyota', 'model': 'Camry', 'year': 2020, 'num_doors': 4}\n"
     ]
    }
   ],
   "source": [
    "car = Car(\"Toyota\", \"Camry\", 2020, 4)\n",
    "car.start()\n",
    "car.open_trunk()\n",
    "\n",
    "print(car.__dict__)"
   ]
  },
  {
   "cell_type": "markdown",
   "id": "93c7f85b",
   "metadata": {},
   "source": [
    "# Polymorphism"
   ]
  },
  {
   "cell_type": "code",
   "execution_count": 4,
   "id": "73814633",
   "metadata": {},
   "outputs": [
    {
     "name": "stdout",
     "output_type": "stream",
     "text": [
      "Opening the trunk of the Honda Civic.\n"
     ]
    },
    {
     "ename": "AttributeError",
     "evalue": "'Motorcycle' object has no attribute 'open_trunk'",
     "output_type": "error",
     "traceback": [
      "\u001b[31m---------------------------------------------------------------------------\u001b[39m",
      "\u001b[31mAttributeError\u001b[39m                            Traceback (most recent call last)",
      "\u001b[36mCell\u001b[39m\u001b[36m \u001b[39m\u001b[32mIn[4]\u001b[39m\u001b[32m, line 9\u001b[39m\n\u001b[32m      7\u001b[39m \u001b[38;5;66;03m# Loop through list of vehicles and insp[ect them\u001b[39;00m\n\u001b[32m      8\u001b[39m \u001b[38;5;28;01mfor\u001b[39;00m vehicle \u001b[38;5;129;01min\u001b[39;00m vehicles:\n\u001b[32m----> \u001b[39m\u001b[32m9\u001b[39m     \u001b[43mvehicle\u001b[49m\u001b[43m.\u001b[49m\u001b[43mopen_trunk\u001b[49m()\n",
      "\u001b[31mAttributeError\u001b[39m: 'Motorcycle' object has no attribute 'open_trunk'"
     ]
    }
   ],
   "source": [
    "# Create list of vehicles to inspect\n",
    "vehicles = [\n",
    "    Car(\"Honda\", \"Civic\", 2021, 4),\n",
    "    Motorcycle(\"Yamaha\", \"MT-07\", 2022, False)\n",
    "    ]\n",
    "\n",
    "# Loop through list of vehicles and insp[ect them\n",
    "for vehicle in vehicles:\n",
    "    vehicle.open_trunk()\n"
   ]
  }
 ],
 "metadata": {
  "kernelspec": {
   "display_name": ".venv",
   "language": "python",
   "name": "python3"
  },
  "language_info": {
   "codemirror_mode": {
    "name": "ipython",
    "version": 3
   },
   "file_extension": ".py",
   "mimetype": "text/x-python",
   "name": "python",
   "nbconvert_exporter": "python",
   "pygments_lexer": "ipython3",
   "version": "3.10.5"
  }
 },
 "nbformat": 4,
 "nbformat_minor": 5
}
